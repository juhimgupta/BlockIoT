{
 "cells": [
  {
   "cell_type": "markdown",
   "metadata": {},
   "source": [
    "Here, we are exploring the HuggingFace library that implements the state of the art transformer models we discussed in class.\n",
    "\n",
    "Let's first install transformers if not installed already."
   ]
  },
  {
   "cell_type": "code",
   "execution_count": 2,
   "metadata": {
    "scrolled": true
   },
   "outputs": [
    {
     "name": "stdout",
     "output_type": "stream",
     "text": [
      "Requirement already satisfied: pytest-astropy in c:\\users\\guptaj\\anaconda3\\lib\\site-packages (0.8.0)\n",
      "Requirement already satisfied: pytest-cov>=2.0 in c:\\users\\guptaj\\anaconda3\\lib\\site-packages (from pytest-astropy) (3.0.0)\n",
      "Requirement already satisfied: hypothesis>=5.1 in c:\\users\\guptaj\\anaconda3\\lib\\site-packages (from pytest-astropy) (5.5.4)\n",
      "Requirement already satisfied: pytest>=4.6 in c:\\users\\guptaj\\anaconda3\\lib\\site-packages (from pytest-astropy) (5.3.5)\n",
      "Requirement already satisfied: pytest-doctestplus>=0.2.0 in c:\\users\\guptaj\\anaconda3\\lib\\site-packages (from pytest-astropy) (0.5.0)\n",
      "Requirement already satisfied: pytest-openfiles>=0.3.1 in c:\\users\\guptaj\\anaconda3\\lib\\site-packages (from pytest-astropy) (0.4.0)\n",
      "Requirement already satisfied: pytest-astropy-header>=0.1.2 in c:\\users\\guptaj\\anaconda3\\lib\\site-packages (from pytest-astropy) (0.1.2)\n",
      "Requirement already satisfied: pytest-filter-subpackage>=0.1 in c:\\users\\guptaj\\anaconda3\\lib\\site-packages (from pytest-astropy) (0.1.1)\n",
      "Requirement already satisfied: pytest-arraydiff>=0.1 in c:\\users\\guptaj\\anaconda3\\lib\\site-packages (from pytest-astropy) (0.3)\n",
      "Requirement already satisfied: pytest-remotedata>=0.3.1 in c:\\users\\guptaj\\anaconda3\\lib\\site-packages (from pytest-astropy) (0.3.2)\n",
      "Requirement already satisfied: coverage[toml]>=5.2.1 in c:\\users\\guptaj\\anaconda3\\lib\\site-packages (from pytest-cov>=2.0->pytest-astropy) (6.3.2)\n",
      "Requirement already satisfied: attrs>=19.2.0 in c:\\users\\guptaj\\anaconda3\\lib\\site-packages (from hypothesis>=5.1->pytest-astropy) (19.3.0)\n",
      "Requirement already satisfied: sortedcontainers<3.0.0,>=2.1.0 in c:\\users\\guptaj\\anaconda3\\lib\\site-packages (from hypothesis>=5.1->pytest-astropy) (2.1.0)\n",
      "Requirement already satisfied: py>=1.5.0 in c:\\users\\guptaj\\anaconda3\\lib\\site-packages (from pytest>=4.6->pytest-astropy) (1.8.1)\n",
      "Requirement already satisfied: packaging in c:\\users\\guptaj\\anaconda3\\lib\\site-packages (from pytest>=4.6->pytest-astropy) (21.3)\n",
      "Requirement already satisfied: more-itertools>=4.0.0 in c:\\users\\guptaj\\anaconda3\\lib\\site-packages (from pytest>=4.6->pytest-astropy) (8.2.0)\n",
      "Requirement already satisfied: pluggy<1.0,>=0.12 in c:\\users\\guptaj\\anaconda3\\lib\\site-packages (from pytest>=4.6->pytest-astropy) (0.13.1)\n",
      "Requirement already satisfied: wcwidth in c:\\users\\guptaj\\anaconda3\\lib\\site-packages (from pytest>=4.6->pytest-astropy) (0.1.8)\n",
      "Requirement already satisfied: importlib-metadata>=0.12 in c:\\users\\guptaj\\anaconda3\\lib\\site-packages (from pytest>=4.6->pytest-astropy) (4.11.3)\n",
      "Requirement already satisfied: atomicwrites>=1.0 in c:\\users\\guptaj\\anaconda3\\lib\\site-packages (from pytest>=4.6->pytest-astropy) (1.3.0)\n",
      "Requirement already satisfied: colorama in c:\\users\\guptaj\\anaconda3\\lib\\site-packages (from pytest>=4.6->pytest-astropy) (0.4.3)\n",
      "Requirement already satisfied: six in c:\\users\\guptaj\\anaconda3\\lib\\site-packages (from pytest-doctestplus>=0.2.0->pytest-astropy) (1.14.0)\n",
      "Requirement already satisfied: psutil in c:\\users\\guptaj\\anaconda3\\lib\\site-packages (from pytest-openfiles>=0.3.1->pytest-astropy) (5.6.7)\n",
      "Requirement already satisfied: numpy in c:\\users\\guptaj\\anaconda3\\lib\\site-packages (from pytest-arraydiff>=0.1->pytest-astropy) (1.21.5)\n",
      "Requirement already satisfied: tomli; extra == \"toml\" in c:\\users\\guptaj\\anaconda3\\lib\\site-packages (from coverage[toml]>=5.2.1->pytest-cov>=2.0->pytest-astropy) (2.0.1)\n",
      "Requirement already satisfied: pyparsing!=3.0.5,>=2.0.2 in c:\\users\\guptaj\\anaconda3\\lib\\site-packages (from packaging->pytest>=4.6->pytest-astropy) (2.4.6)\n",
      "Requirement already satisfied: typing-extensions>=3.6.4; python_version < \"3.8\" in c:\\users\\guptaj\\anaconda3\\lib\\site-packages (from importlib-metadata>=0.12->pytest>=4.6->pytest-astropy) (4.1.1)\n",
      "Requirement already satisfied: zipp>=0.5 in c:\\users\\guptaj\\anaconda3\\lib\\site-packages (from importlib-metadata>=0.12->pytest>=4.6->pytest-astropy) (2.2.0)\n",
      "Note: you may need to restart the kernel to use updated packages.\n"
     ]
    }
   ],
   "source": [
    "pip install pytest-astropy"
   ]
  },
  {
   "cell_type": "code",
   "execution_count": 3,
   "metadata": {},
   "outputs": [
    {
     "name": "stdout",
     "output_type": "stream",
     "text": [
      "Looking in links: https://download.pytorch.org/whl/torch_stable.html\n",
      "Requirement already satisfied: torch==1.7.1+cpu in c:\\users\\guptaj\\anaconda3\\lib\\site-packages (1.7.1+cpu)\n",
      "Requirement already satisfied: torchvision==0.8.2+cpu in c:\\users\\guptaj\\anaconda3\\lib\\site-packages (0.8.2+cpu)\n",
      "Requirement already satisfied: typing-extensions in c:\\users\\guptaj\\anaconda3\\lib\\site-packages (from torch==1.7.1+cpu) (4.1.1)\n",
      "Requirement already satisfied: numpy in c:\\users\\guptaj\\anaconda3\\lib\\site-packages (from torch==1.7.1+cpu) (1.21.5)\n",
      "Requirement already satisfied: pillow>=4.1.1 in c:\\users\\guptaj\\anaconda3\\lib\\site-packages (from torchvision==0.8.2+cpu) (7.0.0)\n",
      "Note: you may need to restart the kernel to use updated packages.\n"
     ]
    }
   ],
   "source": [
    "pip install torch==1.7.1+cpu torchvision==0.8.2+cpu -f https://download.pytorch.org/whl/torch_stable.html"
   ]
  },
  {
   "cell_type": "code",
   "execution_count": 4,
   "metadata": {},
   "outputs": [
    {
     "name": "stdout",
     "output_type": "stream",
     "text": [
      "Requirement already satisfied: tensorflow in c:\\users\\guptaj\\anaconda3\\lib\\site-packages (2.8.0)\n",
      "Requirement already satisfied: h5py>=2.9.0 in c:\\users\\guptaj\\anaconda3\\lib\\site-packages (from tensorflow) (2.10.0)\n",
      "Requirement already satisfied: libclang>=9.0.1 in c:\\users\\guptaj\\anaconda3\\lib\\site-packages (from tensorflow) (13.0.0)\n",
      "Requirement already satisfied: wrapt>=1.11.0 in c:\\users\\guptaj\\anaconda3\\lib\\site-packages (from tensorflow) (1.11.2)\n",
      "Requirement already satisfied: gast>=0.2.1 in c:\\users\\guptaj\\anaconda3\\lib\\site-packages (from tensorflow) (0.5.3)\n",
      "Requirement already satisfied: typing-extensions>=3.6.6 in c:\\users\\guptaj\\anaconda3\\lib\\site-packages (from tensorflow) (4.1.1)\n",
      "Requirement already satisfied: numpy>=1.20 in c:\\users\\guptaj\\anaconda3\\lib\\site-packages (from tensorflow) (1.21.5)\n",
      "Requirement already satisfied: tensorflow-io-gcs-filesystem>=0.23.1 in c:\\users\\guptaj\\anaconda3\\lib\\site-packages (from tensorflow) (0.24.0)\n",
      "Requirement already satisfied: tf-estimator-nightly==2.8.0.dev2021122109 in c:\\users\\guptaj\\anaconda3\\lib\\site-packages (from tensorflow) (2.8.0.dev2021122109)\n",
      "Requirement already satisfied: absl-py>=0.4.0 in c:\\users\\guptaj\\anaconda3\\lib\\site-packages (from tensorflow) (1.0.0)\n",
      "Requirement already satisfied: keras-preprocessing>=1.1.1 in c:\\users\\guptaj\\anaconda3\\lib\\site-packages (from tensorflow) (1.1.2)\n",
      "Requirement already satisfied: keras<2.9,>=2.8.0rc0 in c:\\users\\guptaj\\anaconda3\\lib\\site-packages (from tensorflow) (2.8.0)\n",
      "Requirement already satisfied: grpcio<2.0,>=1.24.3 in c:\\users\\guptaj\\anaconda3\\lib\\site-packages (from tensorflow) (1.44.0)\n",
      "Requirement already satisfied: opt-einsum>=2.3.2 in c:\\users\\guptaj\\anaconda3\\lib\\site-packages (from tensorflow) (3.3.0)\n",
      "Requirement already satisfied: google-pasta>=0.1.1 in c:\\users\\guptaj\\anaconda3\\lib\\site-packages (from tensorflow) (0.2.0)\n",
      "Requirement already satisfied: protobuf>=3.9.2 in c:\\users\\guptaj\\anaconda3\\lib\\site-packages (from tensorflow) (3.19.4)\n",
      "Requirement already satisfied: tensorboard<2.9,>=2.8 in c:\\users\\guptaj\\anaconda3\\lib\\site-packages (from tensorflow) (2.8.0)\n",
      "Requirement already satisfied: flatbuffers>=1.12 in c:\\users\\guptaj\\anaconda3\\lib\\site-packages (from tensorflow) (2.0)\n",
      "Requirement already satisfied: astunparse>=1.6.0 in c:\\users\\guptaj\\anaconda3\\lib\\site-packages (from tensorflow) (1.6.3)\n",
      "Requirement already satisfied: setuptools in c:\\users\\guptaj\\anaconda3\\lib\\site-packages (from tensorflow) (45.2.0.post20200210)\n",
      "Requirement already satisfied: six>=1.12.0 in c:\\users\\guptaj\\anaconda3\\lib\\site-packages (from tensorflow) (1.14.0)\n",
      "Requirement already satisfied: termcolor>=1.1.0 in c:\\users\\guptaj\\anaconda3\\lib\\site-packages (from tensorflow) (1.1.0)\n",
      "Requirement already satisfied: tensorboard-data-server<0.7.0,>=0.6.0 in c:\\users\\guptaj\\anaconda3\\lib\\site-packages (from tensorboard<2.9,>=2.8->tensorflow) (0.6.1)\n",
      "Requirement already satisfied: google-auth-oauthlib<0.5,>=0.4.1 in c:\\users\\guptaj\\anaconda3\\lib\\site-packages (from tensorboard<2.9,>=2.8->tensorflow) (0.4.6)\n",
      "Requirement already satisfied: tensorboard-plugin-wit>=1.6.0 in c:\\users\\guptaj\\anaconda3\\lib\\site-packages (from tensorboard<2.9,>=2.8->tensorflow) (1.8.1)\n",
      "Requirement already satisfied: werkzeug>=0.11.15 in c:\\users\\guptaj\\anaconda3\\lib\\site-packages (from tensorboard<2.9,>=2.8->tensorflow) (1.0.0)\n",
      "Requirement already satisfied: requests<3,>=2.21.0 in c:\\users\\guptaj\\anaconda3\\lib\\site-packages (from tensorboard<2.9,>=2.8->tensorflow) (2.22.0)\n",
      "Requirement already satisfied: markdown>=2.6.8 in c:\\users\\guptaj\\anaconda3\\lib\\site-packages (from tensorboard<2.9,>=2.8->tensorflow) (3.3.6)\n",
      "Requirement already satisfied: google-auth<3,>=1.6.3 in c:\\users\\guptaj\\anaconda3\\lib\\site-packages (from tensorboard<2.9,>=2.8->tensorflow) (2.6.0)\n",
      "Requirement already satisfied: wheel>=0.26 in c:\\users\\guptaj\\anaconda3\\lib\\site-packages (from tensorboard<2.9,>=2.8->tensorflow) (0.34.2)\n",
      "Requirement already satisfied: requests-oauthlib>=0.7.0 in c:\\users\\guptaj\\anaconda3\\lib\\site-packages (from google-auth-oauthlib<0.5,>=0.4.1->tensorboard<2.9,>=2.8->tensorflow) (1.3.1)\n",
      "Requirement already satisfied: urllib3!=1.25.0,!=1.25.1,<1.26,>=1.21.1 in c:\\users\\guptaj\\anaconda3\\lib\\site-packages (from requests<3,>=2.21.0->tensorboard<2.9,>=2.8->tensorflow) (1.25.8)\n",
      "Requirement already satisfied: chardet<3.1.0,>=3.0.2 in c:\\users\\guptaj\\anaconda3\\lib\\site-packages (from requests<3,>=2.21.0->tensorboard<2.9,>=2.8->tensorflow) (3.0.4)\n",
      "Requirement already satisfied: certifi>=2017.4.17 in c:\\users\\guptaj\\anaconda3\\lib\\site-packages (from requests<3,>=2.21.0->tensorboard<2.9,>=2.8->tensorflow) (2019.11.28)\n",
      "Requirement already satisfied: idna<2.9,>=2.5 in c:\\users\\guptaj\\anaconda3\\lib\\site-packages (from requests<3,>=2.21.0->tensorboard<2.9,>=2.8->tensorflow) (2.8)\n",
      "Requirement already satisfied: importlib-metadata>=4.4; python_version < \"3.10\" in c:\\users\\guptaj\\anaconda3\\lib\\site-packages (from markdown>=2.6.8->tensorboard<2.9,>=2.8->tensorflow) (4.11.3)\n",
      "Requirement already satisfied: rsa<5,>=3.1.4; python_version >= \"3.6\" in c:\\users\\guptaj\\anaconda3\\lib\\site-packages (from google-auth<3,>=1.6.3->tensorboard<2.9,>=2.8->tensorflow) (4.8)\n",
      "Requirement already satisfied: cachetools<6.0,>=2.0.0 in c:\\users\\guptaj\\anaconda3\\lib\\site-packages (from google-auth<3,>=1.6.3->tensorboard<2.9,>=2.8->tensorflow) (5.0.0)\n",
      "Requirement already satisfied: pyasn1-modules>=0.2.1 in c:\\users\\guptaj\\anaconda3\\lib\\site-packages (from google-auth<3,>=1.6.3->tensorboard<2.9,>=2.8->tensorflow) (0.2.8)\n",
      "Requirement already satisfied: oauthlib>=3.0.0 in c:\\users\\guptaj\\anaconda3\\lib\\site-packages (from requests-oauthlib>=0.7.0->google-auth-oauthlib<0.5,>=0.4.1->tensorboard<2.9,>=2.8->tensorflow) (3.2.0)\n",
      "Requirement already satisfied: zipp>=0.5 in c:\\users\\guptaj\\anaconda3\\lib\\site-packages (from importlib-metadata>=4.4; python_version < \"3.10\"->markdown>=2.6.8->tensorboard<2.9,>=2.8->tensorflow) (2.2.0)\n",
      "Requirement already satisfied: pyasn1>=0.1.3 in c:\\users\\guptaj\\anaconda3\\lib\\site-packages (from rsa<5,>=3.1.4; python_version >= \"3.6\"->google-auth<3,>=1.6.3->tensorboard<2.9,>=2.8->tensorflow) (0.4.8)\n"
     ]
    }
   ],
   "source": [
    "!pip install tensorflow"
   ]
  },
  {
   "cell_type": "code",
   "execution_count": 5,
   "metadata": {},
   "outputs": [
    {
     "name": "stdout",
     "output_type": "stream",
     "text": [
      "Requirement already up-to-date: huggingface-hub in c:\\users\\guptaj\\anaconda3\\lib\\site-packages (0.4.0)\n",
      "Requirement already satisfied, skipping upgrade: packaging>=20.9 in c:\\users\\guptaj\\anaconda3\\lib\\site-packages (from huggingface-hub) (21.3)\n",
      "Requirement already satisfied, skipping upgrade: pyyaml in c:\\users\\guptaj\\anaconda3\\lib\\site-packages (from huggingface-hub) (5.3)\n",
      "Requirement already satisfied, skipping upgrade: typing-extensions>=3.7.4.3 in c:\\users\\guptaj\\anaconda3\\lib\\site-packages (from huggingface-hub) (4.1.1)\n",
      "Requirement already satisfied, skipping upgrade: importlib-metadata; python_version < \"3.8\" in c:\\users\\guptaj\\anaconda3\\lib\\site-packages (from huggingface-hub) (4.11.3)\n",
      "Requirement already satisfied, skipping upgrade: filelock in c:\\users\\guptaj\\anaconda3\\lib\\site-packages (from huggingface-hub) (3.0.12)\n",
      "Requirement already satisfied, skipping upgrade: requests in c:\\users\\guptaj\\anaconda3\\lib\\site-packages (from huggingface-hub) (2.22.0)\n",
      "Requirement already satisfied, skipping upgrade: tqdm in c:\\users\\guptaj\\anaconda3\\lib\\site-packages (from huggingface-hub) (4.42.1)\n",
      "Requirement already satisfied, skipping upgrade: pyparsing!=3.0.5,>=2.0.2 in c:\\users\\guptaj\\anaconda3\\lib\\site-packages (from packaging>=20.9->huggingface-hub) (2.4.6)\n",
      "Requirement already satisfied, skipping upgrade: zipp>=0.5 in c:\\users\\guptaj\\anaconda3\\lib\\site-packages (from importlib-metadata; python_version < \"3.8\"->huggingface-hub) (2.2.0)\n",
      "Requirement already satisfied, skipping upgrade: urllib3!=1.25.0,!=1.25.1,<1.26,>=1.21.1 in c:\\users\\guptaj\\anaconda3\\lib\\site-packages (from requests->huggingface-hub) (1.25.8)\n",
      "Requirement already satisfied, skipping upgrade: idna<2.9,>=2.5 in c:\\users\\guptaj\\anaconda3\\lib\\site-packages (from requests->huggingface-hub) (2.8)\n",
      "Requirement already satisfied, skipping upgrade: chardet<3.1.0,>=3.0.2 in c:\\users\\guptaj\\anaconda3\\lib\\site-packages (from requests->huggingface-hub) (3.0.4)\n",
      "Requirement already satisfied, skipping upgrade: certifi>=2017.4.17 in c:\\users\\guptaj\\anaconda3\\lib\\site-packages (from requests->huggingface-hub) (2019.11.28)\n",
      "Note: you may need to restart the kernel to use updated packages.\n"
     ]
    }
   ],
   "source": [
    "pip install --upgrade huggingface-hub"
   ]
  },
  {
   "cell_type": "code",
   "execution_count": 6,
   "metadata": {},
   "outputs": [
    {
     "name": "stdout",
     "output_type": "stream",
     "text": [
      "Requirement already satisfied: transformers[sentencepiece] in c:\\users\\guptaj\\anaconda3\\lib\\site-packages (4.17.0)\n",
      "Requirement already satisfied: filelock in c:\\users\\guptaj\\anaconda3\\lib\\site-packages (from transformers[sentencepiece]) (3.0.12)\n",
      "Requirement already satisfied: requests in c:\\users\\guptaj\\anaconda3\\lib\\site-packages (from transformers[sentencepiece]) (2.22.0)\n",
      "Requirement already satisfied: pyyaml>=5.1 in c:\\users\\guptaj\\anaconda3\\lib\\site-packages (from transformers[sentencepiece]) (5.3)\n",
      "Requirement already satisfied: tokenizers!=0.11.3,>=0.11.1 in c:\\users\\guptaj\\anaconda3\\lib\\site-packages (from transformers[sentencepiece]) (0.11.6)\n",
      "Requirement already satisfied: tqdm>=4.27 in c:\\users\\guptaj\\anaconda3\\lib\\site-packages (from transformers[sentencepiece]) (4.42.1)\n",
      "Requirement already satisfied: huggingface-hub<1.0,>=0.1.0 in c:\\users\\guptaj\\anaconda3\\lib\\site-packages (from transformers[sentencepiece]) (0.4.0)\n",
      "Requirement already satisfied: packaging>=20.0 in c:\\users\\guptaj\\anaconda3\\lib\\site-packages (from transformers[sentencepiece]) (21.3)\n",
      "Requirement already satisfied: numpy>=1.17 in c:\\users\\guptaj\\anaconda3\\lib\\site-packages (from transformers[sentencepiece]) (1.21.5)\n",
      "Requirement already satisfied: importlib-metadata; python_version < \"3.8\" in c:\\users\\guptaj\\anaconda3\\lib\\site-packages (from transformers[sentencepiece]) (4.11.3)\n",
      "Requirement already satisfied: regex!=2019.12.17 in c:\\users\\guptaj\\anaconda3\\lib\\site-packages (from transformers[sentencepiece]) (2022.3.2)\n",
      "Requirement already satisfied: sacremoses in c:\\users\\guptaj\\anaconda3\\lib\\site-packages (from transformers[sentencepiece]) (0.0.49)\n",
      "Requirement already satisfied: protobuf; extra == \"sentencepiece\" in c:\\users\\guptaj\\anaconda3\\lib\\site-packages (from transformers[sentencepiece]) (3.19.4)\n",
      "Requirement already satisfied: sentencepiece!=0.1.92,>=0.1.91; extra == \"sentencepiece\" in c:\\users\\guptaj\\anaconda3\\lib\\site-packages (from transformers[sentencepiece]) (0.1.96)\n",
      "Requirement already satisfied: certifi>=2017.4.17 in c:\\users\\guptaj\\anaconda3\\lib\\site-packages (from requests->transformers[sentencepiece]) (2019.11.28)\n",
      "Requirement already satisfied: urllib3!=1.25.0,!=1.25.1,<1.26,>=1.21.1 in c:\\users\\guptaj\\anaconda3\\lib\\site-packages (from requests->transformers[sentencepiece]) (1.25.8)\n",
      "Requirement already satisfied: chardet<3.1.0,>=3.0.2 in c:\\users\\guptaj\\anaconda3\\lib\\site-packages (from requests->transformers[sentencepiece]) (3.0.4)\n",
      "Requirement already satisfied: idna<2.9,>=2.5 in c:\\users\\guptaj\\anaconda3\\lib\\site-packages (from requests->transformers[sentencepiece]) (2.8)\n",
      "Requirement already satisfied: typing-extensions>=3.7.4.3 in c:\\users\\guptaj\\anaconda3\\lib\\site-packages (from huggingface-hub<1.0,>=0.1.0->transformers[sentencepiece]) (4.1.1)\n",
      "Requirement already satisfied: pyparsing!=3.0.5,>=2.0.2 in c:\\users\\guptaj\\anaconda3\\lib\\site-packages (from packaging>=20.0->transformers[sentencepiece]) (2.4.6)\n",
      "Requirement already satisfied: zipp>=0.5 in c:\\users\\guptaj\\anaconda3\\lib\\site-packages (from importlib-metadata; python_version < \"3.8\"->transformers[sentencepiece]) (2.2.0)\n",
      "Requirement already satisfied: six in c:\\users\\guptaj\\anaconda3\\lib\\site-packages (from sacremoses->transformers[sentencepiece]) (1.14.0)\n",
      "Requirement already satisfied: joblib in c:\\users\\guptaj\\anaconda3\\lib\\site-packages (from sacremoses->transformers[sentencepiece]) (0.14.1)\n",
      "Requirement already satisfied: click in c:\\users\\guptaj\\anaconda3\\lib\\site-packages (from sacremoses->transformers[sentencepiece]) (7.0)\n"
     ]
    }
   ],
   "source": [
    "!pip install transformers[sentencepiece]"
   ]
  },
  {
   "cell_type": "markdown",
   "metadata": {},
   "source": [
    "**Text Classification**"
   ]
  },
  {
   "cell_type": "code",
   "execution_count": 2,
   "metadata": {},
   "outputs": [
    {
     "name": "stderr",
     "output_type": "stream",
     "text": [
      "No model was supplied, defaulted to facebook/bart-large-mnli (https://huggingface.co/facebook/bart-large-mnli)\n"
     ]
    },
    {
     "data": {
      "text/plain": [
       "{'sequence': \"The class will explore current AI topics through reading, writing, programming,\\nand exploring some of the classic fiction that has former people's (mis)perceptions\\nof machine intelligence. This course will give students an appreciation on how to\\nseparate fiction from fact, and how to critically evaluate the impact current and\\nupcoming AI topics will have on society.\",\n",
       " 'labels': ['education', 'business', 'politics'],\n",
       " 'scores': [0.8363314867019653, 0.12098874896764755, 0.042679838836193085]}"
      ]
     },
     "execution_count": 2,
     "metadata": {},
     "output_type": "execute_result"
    }
   ],
   "source": [
    "from transformers import pipeline\n",
    "course_description = '''The class will explore current AI topics through reading, writing, programming,\n",
    "and exploring some of the classic fiction that has former people's (mis)perceptions\n",
    "of machine intelligence. This course will give students an appreciation on how to\n",
    "separate fiction from fact, and how to critically evaluate the impact current and\n",
    "upcoming AI topics will have on society.'''\n",
    "text_classifier = pipeline(\"zero-shot-classification\")\n",
    "text_classifier(\n",
    "    course_description,\n",
    "    candidate_labels=[\"education\", \"politics\", \"business\"],\n",
    ")"
   ]
  },
  {
   "cell_type": "markdown",
   "metadata": {},
   "source": [
    "**Text Generation**"
   ]
  },
  {
   "cell_type": "code",
   "execution_count": 8,
   "metadata": {},
   "outputs": [
    {
     "name": "stderr",
     "output_type": "stream",
     "text": [
      "Setting `pad_token_id` to `eos_token_id`:50256 for open-end generation.\n"
     ]
    },
    {
     "data": {
      "text/plain": [
       "[{'generated_text': 'Patient was diagnosed with atrial fibrillation because he had a condition called cardiac dyspepsia. Upon completion of his treatment, he received treatment from the University of California, Los Angeles and California Institute of Technology.\\n\\n\\n\\nA'}]"
      ]
     },
     "execution_count": 8,
     "metadata": {},
     "output_type": "execute_result"
    }
   ],
   "source": [
    "generator = pipeline(\"text-generation\", model=\"distilgpt2\")\n",
    "generator(\n",
    "    \"Patient was diagnosed with atrial fibrillation because\",\n",
    ")"
   ]
  },
  {
   "cell_type": "markdown",
   "metadata": {},
   "source": [
    "**Question Answering**"
   ]
  },
  {
   "cell_type": "code",
   "execution_count": 9,
   "metadata": {},
   "outputs": [],
   "source": [
    "AFibContext = ''''Patient should be diagnosed with atrial fibrillation due to ECG readings showing absence of P-wave and irregular waves between heartbeats. Also, patient is showing symptoms of palpitations, chest pain, shortness of breath, and has a history of heart attack, high blood pressure, and sleep apnea. '''"
   ]
  },
  {
   "cell_type": "code",
   "execution_count": 36,
   "metadata": {},
   "outputs": [
    {
     "name": "stderr",
     "output_type": "stream",
     "text": [
      "No model was supplied, defaulted to distilbert-base-cased-distilled-squad (https://huggingface.co/distilbert-base-cased-distilled-squad)\n"
     ]
    },
    {
     "data": {
      "text/plain": [
       "{'score': 0.3349080979824066,\n",
       " 'start': 61,\n",
       " 'end': 138,\n",
       " 'answer': 'ECG readings showing absence of P-wave and irregular waves between heartbeats'}"
      ]
     },
     "execution_count": 36,
     "metadata": {},
     "output_type": "execute_result"
    }
   ],
   "source": [
    "question_answerer = pipeline(\"question-answering\")\n",
    "question_answerer(\n",
    "    question=\"Why was the patient diagnosed with atrial fibrillation?\",\n",
    "    context=AFibContext\n",
    ")"
   ]
  },
  {
   "cell_type": "code",
   "execution_count": 35,
   "metadata": {},
   "outputs": [
    {
     "data": {
      "text/plain": [
       "{'score': 0.23715996742248535,\n",
       " 'start': 203,\n",
       " 'end': 222,\n",
       " 'answer': 'shortness of breath'}"
      ]
     },
     "execution_count": 35,
     "metadata": {},
     "output_type": "execute_result"
    }
   ],
   "source": [
    "Q_A = pipeline(\"question-answering\", model=\"healx/biomedical-slot-filling-reader-large\")\n",
    "Q_A(\n",
    "    question=\"Why was the patient diagnosed with atrial fibrillation?\", \n",
    "    context=AFibContext\n",
    ")"
   ]
  },
  {
   "cell_type": "markdown",
   "metadata": {},
   "source": [
    "## **Filling Slot (filling \"mask\" in this case)**"
   ]
  },
  {
   "cell_type": "markdown",
   "metadata": {},
   "source": [
    "**Available Mask Filling Models**"
   ]
  },
  {
   "cell_type": "markdown",
   "metadata": {},
   "source": [
    "First, here are some of the potential models that can be used to generate explanations. "
   ]
  },
  {
   "cell_type": "markdown",
   "metadata": {},
   "source": [
    "Model 1: BiomedLNP - PubMedBERT\n",
    "This model was pretrained from scratch using abstracts from PubMed and full-text articles from PubMedCentral. This model achieves state-of-the-art performance on many biomedical NLP tasks, and currently holds the top score on the Biomedical Language Understanding and Reasoning Benchmark."
   ]
  },
  {
   "cell_type": "code",
   "execution_count": 13,
   "metadata": {},
   "outputs": [
    {
     "name": "stderr",
     "output_type": "stream",
     "text": [
      "Some weights of the model checkpoint at microsoft/BiomedNLP-PubMedBERT-base-uncased-abstract-fulltext were not used when initializing BertForMaskedLM: ['cls.seq_relationship.weight', 'cls.seq_relationship.bias']\n",
      "- This IS expected if you are initializing BertForMaskedLM from the checkpoint of a model trained on another task or with another architecture (e.g. initializing a BertForSequenceClassification model from a BertForPreTraining model).\n",
      "- This IS NOT expected if you are initializing BertForMaskedLM from the checkpoint of a model that you expect to be exactly identical (initializing a BertForSequenceClassification model from a BertForSequenceClassification model).\n"
     ]
    }
   ],
   "source": [
    "MaskFiller_PubMed = pipeline(\"fill-mask\", model=\"microsoft/BiomedNLP-PubMedBERT-base-uncased-abstract-fulltext\")"
   ]
  },
  {
   "cell_type": "markdown",
   "metadata": {},
   "source": [
    "Model 2: Bio_ClinicalBERT \n",
    "This model was trained on all notes from MIMIC III, a database containing electronic health records from ICU patients at the Beth Israel Hospital in Boston, MA. "
   ]
  },
  {
   "cell_type": "code",
   "execution_count": 14,
   "metadata": {},
   "outputs": [
    {
     "name": "stderr",
     "output_type": "stream",
     "text": [
      "Some weights of the model checkpoint at emilyalsentzer/Bio_ClinicalBERT were not used when initializing BertForMaskedLM: ['cls.seq_relationship.weight', 'cls.seq_relationship.bias']\n",
      "- This IS expected if you are initializing BertForMaskedLM from the checkpoint of a model trained on another task or with another architecture (e.g. initializing a BertForSequenceClassification model from a BertForPreTraining model).\n",
      "- This IS NOT expected if you are initializing BertForMaskedLM from the checkpoint of a model that you expect to be exactly identical (initializing a BertForSequenceClassification model from a BertForSequenceClassification model).\n"
     ]
    }
   ],
   "source": [
    "MaskFiller_MIMIC = pipeline(\"fill-mask\", model=\"emilyalsentzer/Bio_ClinicalBERT\")"
   ]
  },
  {
   "cell_type": "markdown",
   "metadata": {},
   "source": [
    "**Model Outputs**"
   ]
  },
  {
   "cell_type": "markdown",
   "metadata": {},
   "source": [
    "Here are some explanation outputs of both models. "
   ]
  },
  {
   "cell_type": "code",
   "execution_count": 16,
   "metadata": {},
   "outputs": [
    {
     "data": {
      "text/plain": [
       "[{'score': 0.6843346357345581,\n",
       "  'token': 16961,\n",
       "  'token_str': 'angina',\n",
       "  'sequence': 'patient was diagnosed with coronary artery disease because patient is showing symptoms of angina.'},\n",
       " {'score': 0.06489956378936768,\n",
       "  'token': 5643,\n",
       "  'token_str': 'cad',\n",
       "  'sequence': 'patient was diagnosed with coronary artery disease because patient is showing symptoms of cad.'},\n",
       " {'score': 0.05206036567687988,\n",
       "  'token': 7716,\n",
       "  'token_str': 'ischemia',\n",
       "  'sequence': 'patient was diagnosed with coronary artery disease because patient is showing symptoms of ischemia.'},\n",
       " {'score': 0.02217354066669941,\n",
       "  'token': 18461,\n",
       "  'token_str': 'dyspnea',\n",
       "  'sequence': 'patient was diagnosed with coronary artery disease because patient is showing symptoms of dyspnea.'},\n",
       " {'score': 0.012342363595962524,\n",
       "  'token': 6519,\n",
       "  'token_str': 'mi',\n",
       "  'sequence': 'patient was diagnosed with coronary artery disease because patient is showing symptoms of mi.'}]"
      ]
     },
     "execution_count": 16,
     "metadata": {},
     "output_type": "execute_result"
    }
   ],
   "source": [
    "MaskFiller_PubMed(\"Patient was diagnosed with coronary artery disease because patient is showing symptoms of [MASK].\"\n",
    ")"
   ]
  },
  {
   "cell_type": "code",
   "execution_count": 17,
   "metadata": {},
   "outputs": [
    {
     "data": {
      "text/plain": [
       "[{'score': 0.16843591630458832,\n",
       "  'token': 20360,\n",
       "  'token_str': 'CP',\n",
       "  'sequence': 'patient was diagnosed with coronary artery disease because patient is showing symptoms of CP.'},\n",
       " {'score': 0.12877030670642853,\n",
       "  'token': 8006,\n",
       "  'token_str': 'symptoms',\n",
       "  'sequence': 'patient was diagnosed with coronary artery disease because patient is showing symptoms of symptoms.'},\n",
       " {'score': 0.08207368850708008,\n",
       "  'token': 18418,\n",
       "  'token_str': 'fatigue',\n",
       "  'sequence': 'patient was diagnosed with coronary artery disease because patient is showing symptoms of fatigue.'},\n",
       " {'score': 0.06393478065729141,\n",
       "  'token': 2489,\n",
       "  'token_str': 'pain',\n",
       "  'sequence': 'patient was diagnosed with coronary artery disease because patient is showing symptoms of pain.'},\n",
       " {'score': 0.040929537266492844,\n",
       "  'token': 1142,\n",
       "  'token_str': 'this',\n",
       "  'sequence': 'patient was diagnosed with coronary artery disease because patient is showing symptoms of this.'}]"
      ]
     },
     "execution_count": 17,
     "metadata": {},
     "output_type": "execute_result"
    }
   ],
   "source": [
    "MaskFiller_MIMIC(\"Patient was diagnosed with coronary artery disease because patient is showing symptoms of [MASK].\")"
   ]
  },
  {
   "cell_type": "markdown",
   "metadata": {},
   "source": [
    "MaskFiller2 = pipeline(\"fill-mask\", model=\"emilyalsentzer/Bio_ClinicalBERT\")\n",
    "MaskFiller2(\"Patient was diagnosed with coronary artery disease because patient is showing symptoms of [MASK].\"\n",
    ")"
   ]
  },
  {
   "cell_type": "markdown",
   "metadata": {},
   "source": [
    "**Explanation Types**"
   ]
  },
  {
   "cell_type": "markdown",
   "metadata": {},
   "source": [
    "*Rule-based Explanation.*\n",
    "\n",
    "Typical sentence structure is If..Then statements and is concise."
   ]
  },
  {
   "cell_type": "code",
   "execution_count": 24,
   "metadata": {},
   "outputs": [
    {
     "data": {
      "text/plain": [
       "[{'score': 0.475231796503067,\n",
       "  'token': 16961,\n",
       "  'token_str': 'angina',\n",
       "  'sequence': 'the diagnosis is coronary artery disease / cad. if the patient did not have this symptom : angina, then the patient would not be diagnosed with coronary artery disease / cad.'},\n",
       " {'score': 0.04605596885085106,\n",
       "  'token': 5643,\n",
       "  'token_str': 'cad',\n",
       "  'sequence': 'the diagnosis is coronary artery disease / cad. if the patient did not have this symptom : cad, then the patient would not be diagnosed with coronary artery disease / cad.'},\n",
       " {'score': 0.03935706987977028,\n",
       "  'token': 6519,\n",
       "  'token_str': 'mi',\n",
       "  'sequence': 'the diagnosis is coronary artery disease / cad. if the patient did not have this symptom : mi, then the patient would not be diagnosed with coronary artery disease / cad.'},\n",
       " {'score': 0.01705552078783512,\n",
       "  'token': 18461,\n",
       "  'token_str': 'dyspnea',\n",
       "  'sequence': 'the diagnosis is coronary artery disease / cad. if the patient did not have this symptom : dyspnea, then the patient would not be diagnosed with coronary artery disease / cad.'},\n",
       " {'score': 0.01677687093615532,\n",
       "  'token': 2406,\n",
       "  'token_str': 'however',\n",
       "  'sequence': 'the diagnosis is coronary artery disease / cad. if the patient did not have this symptom : however, then the patient would not be diagnosed with coronary artery disease / cad.'}]"
      ]
     },
     "execution_count": 24,
     "metadata": {},
     "output_type": "execute_result"
    }
   ],
   "source": [
    "MaskFiller_PubMed(\"The diagnosis is coronary artery disease/cad. If the patient did not have this symptom: [MASK], then the patient would not be diagnosed with coronary artery disease/cad.\")"
   ]
  },
  {
   "cell_type": "code",
   "execution_count": 25,
   "metadata": {},
   "outputs": [
    {
     "data": {
      "text/plain": [
       "[{'score': 0.0874975174665451,\n",
       "  'token': 1649,\n",
       "  'token_str': 'however',\n",
       "  'sequence': 'the diagnosis is coronary artery disease / cad. if the patient did not have this symptom : however, then the patient would not be diagnosed with coronary artery disease / cad.'},\n",
       " {'score': 0.035171978175640106,\n",
       "  'token': 1148,\n",
       "  'token_str': 'first',\n",
       "  'sequence': 'the diagnosis is coronary artery disease / cad. if the patient did not have this symptom : first, then the patient would not be diagnosed with coronary artery disease / cad.'},\n",
       " {'score': 0.031023846939206123,\n",
       "  'token': 2331,\n",
       "  'token_str': 'previously',\n",
       "  'sequence': 'the diagnosis is coronary artery disease / cad. if the patient did not have this symptom : previously, then the patient would not be diagnosed with coronary artery disease / cad.'},\n",
       " {'score': 0.025021931156516075,\n",
       "  'token': 4146,\n",
       "  'token_str': 'worse',\n",
       "  'sequence': 'the diagnosis is coronary artery disease / cad. if the patient did not have this symptom : worse, then the patient would not be diagnosed with coronary artery disease / cad.'},\n",
       " {'score': 0.023501018062233925,\n",
       "  'token': 8006,\n",
       "  'token_str': 'symptoms',\n",
       "  'sequence': 'the diagnosis is coronary artery disease / cad. if the patient did not have this symptom : symptoms, then the patient would not be diagnosed with coronary artery disease / cad.'}]"
      ]
     },
     "execution_count": 25,
     "metadata": {},
     "output_type": "execute_result"
    }
   ],
   "source": [
    "MaskFiller_MIMIC(\"The diagnosis is coronary artery disease/cad. If the patient did not have this symptom: [MASK], then the patient would not be diagnosed with coronary artery disease/cad.\")"
   ]
  },
  {
   "cell_type": "markdown",
   "metadata": {},
   "source": [
    "*Example-based Explanations*\n",
    "\n",
    "Typical structure gives history, other relevant factors that contributed to a descision. "
   ]
  },
  {
   "cell_type": "code",
   "execution_count": 30,
   "metadata": {},
   "outputs": [
    {
     "data": {
      "text/plain": [
       "[{'score': 0.23419669270515442,\n",
       "  'token': 5579,\n",
       "  'token_str': 'hypertension',\n",
       "  'sequence': 'the patient has had a history of angina, high systolic blood pressures, and high heart rate. the diagnosis is hypertension.'},\n",
       " {'score': 0.044368378818035126,\n",
       "  'token': 7323,\n",
       "  'token_str': 'uncertain',\n",
       "  'sequence': 'the patient has had a history of angina, high systolic blood pressures, and high heart rate. the diagnosis is uncertain.'},\n",
       " {'score': 0.031248625367879868,\n",
       "  'token': 11706,\n",
       "  'token_str': 'hypertensive',\n",
       "  'sequence': 'the patient has had a history of angina, high systolic blood pressures, and high heart rate. the diagnosis is hypertensive.'},\n",
       " {'score': 0.023656319826841354,\n",
       "  'token': 3982,\n",
       "  'token_str': 'confirmed',\n",
       "  'sequence': 'the patient has had a history of angina, high systolic blood pressures, and high heart rate. the diagnosis is confirmed.'},\n",
       " {'score': 0.018639344722032547,\n",
       "  'token': 13513,\n",
       "  'token_str': 'idiopathic',\n",
       "  'sequence': 'the patient has had a history of angina, high systolic blood pressures, and high heart rate. the diagnosis is idiopathic.'}]"
      ]
     },
     "execution_count": 30,
     "metadata": {},
     "output_type": "execute_result"
    }
   ],
   "source": [
    "MaskFiller_PubMed(\"The patient has had a history of angina, high systolic blood pressures, and high heart rate. The diagnosis is [MASK].\")"
   ]
  },
  {
   "cell_type": "code",
   "execution_count": 31,
   "metadata": {},
   "outputs": [
    {
     "data": {
      "text/plain": [
       "[{'score': 0.1682717651128769,\n",
       "  'token': 1207,\n",
       "  'token_str': 'new',\n",
       "  'sequence': 'the patient has had a history of angina, high systolic blood pressures, and high heart rate. the diagnosis is new.'},\n",
       " {'score': 0.08815031498670578,\n",
       "  'token': 1861,\n",
       "  'token_str': 'similar',\n",
       "  'sequence': 'the patient has had a history of angina, high systolic blood pressures, and high heart rate. the diagnosis is similar.'},\n",
       " {'score': 0.0849054604768753,\n",
       "  'token': 10527,\n",
       "  'token_str': 'unclear',\n",
       "  'sequence': 'the patient has had a history of angina, high systolic blood pressures, and high heart rate. the diagnosis is unclear.'},\n",
       " {'score': 0.06489607691764832,\n",
       "  'token': 9591,\n",
       "  'token_str': 'uncertain',\n",
       "  'sequence': 'the patient has had a history of angina, high systolic blood pressures, and high heart rate. the diagnosis is uncertain.'},\n",
       " {'score': 0.06249962002038956,\n",
       "  'token': 1208,\n",
       "  'token_str': 'now',\n",
       "  'sequence': 'the patient has had a history of angina, high systolic blood pressures, and high heart rate. the diagnosis is now.'}]"
      ]
     },
     "execution_count": 31,
     "metadata": {},
     "output_type": "execute_result"
    }
   ],
   "source": [
    "MaskFiller_MIMIC(\"The patient has had a history of angina, high systolic blood pressures, and high heart rate. The diagnosis is [MASK].\")"
   ]
  }
 ],
 "metadata": {
  "kernelspec": {
   "display_name": "Python 3",
   "language": "python",
   "name": "python3"
  },
  "language_info": {
   "codemirror_mode": {
    "name": "ipython",
    "version": 3
   },
   "file_extension": ".py",
   "mimetype": "text/x-python",
   "name": "python",
   "nbconvert_exporter": "python",
   "pygments_lexer": "ipython3",
   "version": "3.7.6"
  }
 },
 "nbformat": 4,
 "nbformat_minor": 4
}
